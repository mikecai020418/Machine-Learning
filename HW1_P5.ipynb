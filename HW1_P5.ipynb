{
 "cells": [
  {
   "cell_type": "code",
   "execution_count": 1,
   "metadata": {},
   "outputs": [],
   "source": [
    "import numpy as np\n",
    "import time\n",
    "from sklearn.cluster import KMeans"
   ]
  },
  {
   "cell_type": "code",
   "execution_count": 2,
   "metadata": {},
   "outputs": [],
   "source": [
    "# Algorithm & pseudocode for the k-means algorithm.\n",
    "# step 1: randomly initialize K cluster centers, initialize iteration to 0\n",
    "# step 2: repeat untill convergence or iteration reaches max iteration\n",
    "#     increment iteration by 1\n",
    "#     step 2-1: for each data point x in X: assign x to the nearest cluster center\n",
    "#     step 2-2: for each cluster center: update the center to the mean of assigned data points\n",
    "#     step 2-3: check for convergence\n",
    "# end"
   ]
  },
  {
   "cell_type": "code",
   "execution_count": 3,
   "metadata": {},
   "outputs": [],
   "source": [
    "# Implementaion of the custom KMeans function:\n",
    "def Kmeans(X, K, iter_max = 300):\n",
    "\tnp.random.seed(0)\n",
    "\t# step 1:\n",
    "\tcenters = X[np.random.choice(range(len(X)), size=K, replace=False)]\n",
    "\t\n",
    "\t# step 2:\n",
    "\tfor iter in range(iter_max):\n",
    "\t\t# step 2-1:\n",
    "\t\tlabels = np.argmin(np.linalg.norm(X[:, np.newaxis] - centers, axis=2), axis=1)\n",
    "\t\t# step 2-2:\n",
    "\t\tnew_centers = np.array([X[labels==k].mean(axis=0) for k in range(K)])\n",
    "\t\t# step 2-3:\n",
    "\t\tif np.all(centers==new_centers):\n",
    "\t\t\tbreak\n",
    "\t\tcenters = new_centers\n",
    "\treturn labels, centers"
   ]
  },
  {
   "cell_type": "code",
   "execution_count": 8,
   "metadata": {},
   "outputs": [
    {
     "name": "stdout",
     "output_type": "stream",
     "text": [
      "Custom kmeans execution time:  0.0031287670135498047  seconds;\n",
      "sklearn kmeans execution time:  0.008269071578979492  seconds;\n"
     ]
    }
   ],
   "source": [
    "# Comparing execution time between sklearn's kmeans and the custom kmeans above.\n",
    "# Create a dataset for testing.\n",
    "dataset = np.random.rand(100, 3)\n",
    "K = 3\n",
    "iter_max = 300\n",
    "\n",
    "\n",
    "# Record the execution time for custom kmeans\n",
    "start_time_custom = time.time()\n",
    "labels,centers = Kmeans(dataset, K, iter_max)\n",
    "custom_kmeans_execution_time = time.time() - start_time_custom\n",
    "\n",
    "\n",
    "# Record the execution time for sklearn's kmeans\n",
    "start_time_sklearn = time.time()\n",
    "kmeans_sklearn = KMeans(n_clusters=K, max_iter = iter_max, random_state=0, n_init=1, init='random').fit(dataset)\n",
    "sklearn_kmeans_execution_time = time.time() - start_time_sklearn\n",
    "\n",
    "print(\"Custom kmeans execution time: \", custom_kmeans_execution_time, \" seconds;\")\n",
    "print(\"sklearn kmeans execution time: \", sklearn_kmeans_execution_time, \" seconds;\")\n"
   ]
  }
 ],
 "metadata": {
  "kernelspec": {
   "display_name": "base",
   "language": "python",
   "name": "python3"
  },
  "language_info": {
   "codemirror_mode": {
    "name": "ipython",
    "version": 3
   },
   "file_extension": ".py",
   "mimetype": "text/x-python",
   "name": "python",
   "nbconvert_exporter": "python",
   "pygments_lexer": "ipython3",
   "version": "3.11.5"
  }
 },
 "nbformat": 4,
 "nbformat_minor": 2
}
