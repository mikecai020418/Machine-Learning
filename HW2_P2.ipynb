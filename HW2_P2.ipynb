{
 "cells": [
  {
   "cell_type": "code",
   "execution_count": null,
   "metadata": {},
   "outputs": [],
   "source": [
    "# Pseudocode Spectral Clustering\n",
    "# procedure spectral_clustering(data, n_clusters, n_neighbors):\n",
    "#     1. Compute the weight matrix using k-nearest neighbors, where k = n_neighbors\n",
    "#     2. Compute the Laplacian matrix:\n",
    "#        a. Compute the degree matrix from the weight matrix.\n",
    "#        b. Compute the unnormalized Laplacian matrix as L = D - W\n",
    "#     3. Compute the eigenvectors and eigenvalues of the Laplacian matrix\n",
    "#     4. Select the top k eigenvectors corresponding to the smallest\n",
    "#     ...eigenvalues to form a matrix U, where the columns\n",
    "#     ...of U are the k eigenvectors.\n",
    "#     5. Perform K-means or another clustering algorithm on the rows of U\n",
    "#     ...to obtain the final clusters.\n",
    "#     return clusters"
   ]
  },
  {
   "cell_type": "code",
   "execution_count": 1,
   "metadata": {},
   "outputs": [],
   "source": [
    "import numpy as np\n",
    "from sklearn.cluster import KMeans\n",
    "from sklearn.cluster import SpectralClustering"
   ]
  },
  {
   "cell_type": "code",
   "execution_count": 11,
   "metadata": {},
   "outputs": [],
   "source": [
    "class Spectral_Clustering:\n",
    "\tdef __init__(self, data ,n_clusters, n_neighbors) :\n",
    "\t\tself.x = data\n",
    "\t\tself.n_clusters = n_clusters\n",
    "\t\tself.n_neighbors = n_neighbors\n",
    "\t\tself.num = data.shape[0]\n",
    "\t\n",
    "\tdef distance(self, a, b):\n",
    "\t\tdistance = np.sqrt((a[0]-b[0]) ** 2 + (a[1]-b[1]) ** 2)\n",
    "\t\treturn distance\n",
    "\t\n",
    "\tdef Weight_matrix(self):\n",
    "\t\tW = np.zeros((self.num, self.num))\n",
    "\t\tfor i in range(self.num):\n",
    "\t\t\tdist = np.zeros(self.num)\n",
    "\t\t\tfor j in range(self.num):\n",
    "\t\t\t\tdist[j] = self.distance(self.x[i], self.x[j])\n",
    "\t\t\tdist[i] = 1e10\n",
    "\t\t\tindices_of_smallest = dist.argsort()[:self.n_neighbors]\n",
    "\t\t\tfor z in range(self.n_neighbors):\n",
    "\t\t\t\tW[i][indices_of_smallest[z]] = 1\n",
    "\t\tW = 0.5*W + 0.5*W.T\n",
    "\t\treturn W\n",
    "\t\n",
    "\tdef Laplacian(self):\n",
    "\t\tW = self.Weight_matrix()\n",
    "\t\tD = np.zeros((self.num, self.num))\n",
    "\t\tfor i in range(self.num):\n",
    "\t\t\tD[i][i] = np.sum(W[i][:])\n",
    "\t\tL = D-W\n",
    "\t\treturn L\n",
    "\t\n",
    "\tdef Final_matrix(self):\n",
    "\t\teigenvalues, eigenvectors = np.linalg.eig(self.Laplacian())\n",
    "\t\tsorted_indices = np.argsort(eigenvalues)\n",
    "\t\tU = eigenvectors[:, sorted_indices[:self.n_neighbors]]\n",
    "\t\treturn U\n",
    "\t\n",
    "\tdef Grouping(self):\n",
    "\t\tkmeans = KMeans(n_clusters=self.n_clusters)\n",
    "\t\tclusters = kmeans.fit_predict(self.Final_matrix())\n",
    "\t\treturn clusters\n",
    "\t"
   ]
  },
  {
   "cell_type": "code",
   "execution_count": 12,
   "metadata": {},
   "outputs": [
    {
     "name": "stdout",
     "output_type": "stream",
     "text": [
      "[[ 0.27220725  0.67236446]\n",
      " [ 0.03194144  2.27283464]\n",
      " [ 0.87128628 -0.1059916 ]\n",
      " [ 7.89678115  3.4105985 ]\n",
      " [ 8.14404357  4.45427351]\n",
      " [ 8.76103773  3.12167502]\n",
      " [ 3.3138587   6.        ]\n",
      " [ 4.05647344  6.        ]\n",
      " [ 3.22137229  6.        ]\n",
      " [ 0.          0.        ]]\n"
     ]
    }
   ],
   "source": [
    "np.random.seed(0)\n",
    "num_samples = 10\n",
    "num_features = 2\n",
    "num_components = 3\n",
    "means = np.array([[2,2], [8,3], [3,6]])\n",
    "covariances = np.array([[[1,0.5], [0.5,1]], [[1,0], [0,1]], [[0.5,0], [0,0]]])\n",
    "weights = np.array([0.4,0.3,0.3])\n",
    "\n",
    "X = np.zeros((num_samples, num_features))\n",
    "for i in range(num_components):\n",
    "\tnum_samples_i = int (weights[i] * num_samples)\n",
    "\tX[i * num_samples_i: (i+1) * num_samples_i] = np.random.multivariate_normal(means[i], covariances[i], size=num_samples_i)\n",
    "print(X)\n"
   ]
  },
  {
   "cell_type": "code",
   "execution_count": 13,
   "metadata": {},
   "outputs": [
    {
     "name": "stdout",
     "output_type": "stream",
     "text": [
      "[1 1 1 2 2 2 0 0 0 1]\n",
      "CPU times: user 14 µs, sys: 20 µs, total: 34 µs\n",
      "Wall time: 11.9 µs\n"
     ]
    },
    {
     "name": "stderr",
     "output_type": "stream",
     "text": [
      "/Users/mazhiqi/anaconda3/lib/python3.11/site-packages/sklearn/manifold/_spectral_embedding.py:273: UserWarning: Graph is not fully connected, spectral embedding may not work as expected.\n",
      "  warnings.warn(\n"
     ]
    }
   ],
   "source": [
    "clustering = SpectralClustering(n_clusters=3, affinity='nearest_neighbors', n_neighbors=3)\n",
    "\n",
    "labels = clustering.fit_predict(X)\n",
    "print(labels)\n",
    "%time"
   ]
  },
  {
   "cell_type": "code",
   "execution_count": 14,
   "metadata": {},
   "outputs": [
    {
     "name": "stdout",
     "output_type": "stream",
     "text": [
      "[1 1 1 0 0 0 2 2 2 1]\n",
      "CPU times: user 12 µs, sys: 5 µs, total: 17 µs\n",
      "Wall time: 5.01 µs\n"
     ]
    },
    {
     "name": "stderr",
     "output_type": "stream",
     "text": [
      "/Users/mazhiqi/anaconda3/lib/python3.11/site-packages/sklearn/cluster/_kmeans.py:1412: FutureWarning: The default value of `n_init` will change from 10 to 'auto' in 1.4. Set the value of `n_init` explicitly to suppress the warning\n",
      "  super()._check_params_vs_input(X, default_n_init=10)\n"
     ]
    }
   ],
   "source": [
    "modified_clustering = Spectral_Clustering(X,3,3)\n",
    "\n",
    "G = modified_clustering.Grouping()\n",
    "print(G)\n",
    "%time"
   ]
  }
 ],
 "metadata": {
  "kernelspec": {
   "display_name": "base",
   "language": "python",
   "name": "python3"
  },
  "language_info": {
   "codemirror_mode": {
    "name": "ipython",
    "version": 3
   },
   "file_extension": ".py",
   "mimetype": "text/x-python",
   "name": "python",
   "nbconvert_exporter": "python",
   "pygments_lexer": "ipython3",
   "version": "3.11.5"
  }
 },
 "nbformat": 4,
 "nbformat_minor": 2
}
