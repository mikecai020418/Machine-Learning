{
 "cells": [
  {
   "cell_type": "code",
   "execution_count": 1,
   "id": "acdaa78e",
   "metadata": {},
   "outputs": [],
   "source": [
    "import numpy as np\n",
    "import layers\n",
    "import activations\n",
    "import nn\n",
    "import losses\n",
    "import optimizers"
   ]
  },
  {
   "cell_type": "code",
   "execution_count": null,
   "id": "8290b0fc",
   "metadata": {},
   "outputs": [],
   "source": []
  },
  {
   "cell_type": "code",
   "execution_count": 3,
   "id": "748e870c",
   "metadata": {},
   "outputs": [
    {
     "name": "stdout",
     "output_type": "stream",
     "text": [
      "Epoch 0, Loss: 0.06141646253970945\n",
      "Epoch 1, Loss: 0.03451856748552414\n",
      "Epoch 2, Loss: 0.0314785765714715\n",
      "Epoch 3, Loss: 0.033663602204740434\n",
      "Epoch 4, Loss: 0.031060852798019137\n",
      "Epoch 5, Loss: 0.03359144097259758\n",
      "Epoch 6, Loss: 0.029698111611921395\n",
      "Epoch 7, Loss: 0.034071751656313105\n",
      "Epoch 8, Loss: 0.0298786501613803\n",
      "Epoch 9, Loss: 0.03161990477313634\n",
      "Epoch 10, Loss: 0.035059957208093524\n",
      "Epoch 11, Loss: 0.02765903505103257\n",
      "Epoch 12, Loss: 0.030556914669844743\n",
      "Epoch 13, Loss: 0.04042671497638768\n",
      "Epoch 14, Loss: 0.03300921161537833\n",
      "Epoch 15, Loss: 0.036696567245198604\n",
      "Epoch 16, Loss: 0.029637609080720988\n",
      "Epoch 17, Loss: 0.028050855855340312\n",
      "Epoch 18, Loss: 0.032977287890717\n",
      "Epoch 19, Loss: 0.03090214179654767\n",
      "Epoch 20, Loss: 0.02979773185534065\n",
      "Epoch 21, Loss: 0.024915092511855842\n",
      "Epoch 22, Loss: 0.033095367977734255\n",
      "Epoch 23, Loss: 0.0327837797246281\n",
      "Epoch 24, Loss: 0.030605934040375888\n",
      "Epoch 25, Loss: 0.03549427331093231\n",
      "Epoch 26, Loss: 0.032740689785251846\n",
      "Epoch 27, Loss: 0.033088953742300864\n",
      "Epoch 28, Loss: 0.02484597567522074\n",
      "Epoch 29, Loss: 0.024478428921502482\n",
      "Accuracy: 0.9609\n"
     ]
    }
   ],
   "source": [
    "from tensorflow.keras.datasets import mnist\n",
    "import numpy as np\n",
    "\n",
    "# Load and preprocess the MNIST dataset\n",
    "(X_train, y_train), (X_test, y_test) = mnist.load_data()\n",
    "X_train = X_train.reshape(-1, 784) / 255.0\n",
    "X_test = X_test.reshape(-1, 784) / 255.0\n",
    "\n",
    "# Convert labels to one-hot encoded vectors\n",
    "def one_hot_encode(labels, num_classes):\n",
    "    num_samples = labels.shape[0]\n",
    "    encoded_labels = np.zeros((num_samples, num_classes))\n",
    "    for i in range(num_samples):\n",
    "        encoded_labels[i, labels[i]] = 1\n",
    "    return encoded_labels\n",
    "\n",
    "num_classes = 10\n",
    "y_train_one_hot = one_hot_encode(y_train, num_classes)\n",
    "y_test_one_hot = one_hot_encode(y_test, num_classes)\n",
    "\n",
    "\n",
    "# Create the model\n",
    "input_size = 784\n",
    "num_units = 128\n",
    "model = nn.Sequential()\n",
    "model.add(layers.InputLayer(input_shape=input_size))\n",
    "model.add(layers.Dense(input_size, num_units, activation=activations.Sigmoid, optimizer=optimizers.RMSprop))\n",
    "model.add(layers.Dense(num_units, num_classes, activation=activations.Softmax, optimizer=optimizers.RMSprop))\n",
    "\n",
    "# Train the model\n",
    "epochs = 30\n",
    "learning_rate = 0.1\n",
    "batch_size = 128\n",
    "model.train(X_train.T, y_train_one_hot.T, epochs, learning_rate, batch_size, loss=losses.Cross_Entropy)\n",
    "\n",
    "# Make predictions\n",
    "predictions = model.predict(X_test.T)\n",
    "\n",
    "# Convert predictions to class labels\n",
    "predicted_labels = np.argmax(predictions, axis=0)\n",
    "\n",
    "# Calculate accuracy\n",
    "accuracy = np.mean(predicted_labels == y_test)\n",
    "print(\"Accuracy:\", accuracy)"
   ]
  },
  {
   "cell_type": "code",
   "execution_count": null,
   "id": "37840c7d",
   "metadata": {},
   "outputs": [],
   "source": []
  }
 ],
 "metadata": {
  "kernelspec": {
   "display_name": "Python 3 (ipykernel)",
   "language": "python",
   "name": "python3"
  },
  "language_info": {
   "codemirror_mode": {
    "name": "ipython",
    "version": 3
   },
   "file_extension": ".py",
   "mimetype": "text/x-python",
   "name": "python",
   "nbconvert_exporter": "python",
   "pygments_lexer": "ipython3",
   "version": "3.11.5"
  }
 },
 "nbformat": 4,
 "nbformat_minor": 5
}
